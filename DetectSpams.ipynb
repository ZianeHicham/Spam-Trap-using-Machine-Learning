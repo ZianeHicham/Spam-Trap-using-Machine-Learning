{
 "cells": [
  {
   "cell_type": "code",
   "execution_count": 1,
   "metadata": {},
   "outputs": [],
   "source": [
    "import re\n",
    "import pandas as pd\n",
    "from URLFeatureExtraction import featureExtraction\n",
    "import os\n",
    "import pickle\n",
    "from tqdm import tqdm\n",
    "from predicter import make_prediction"
   ]
  },
  {
   "cell_type": "markdown",
   "metadata": {},
   "source": [
    "1.get each e-mail<br/>\n",
    "2.extract urls<br/>\n",
    "3.predict the type of each url<br/>\n",
    "4.if at we detected at least one phishing url, we classify the e-mail as phishing email<br/>"
   ]
  },
  {
   "cell_type": "code",
   "execution_count": 2,
   "metadata": {},
   "outputs": [],
   "source": [
    "#load the model\n",
    "loaded_model = pickle.load(open(\"XGBoost_V2.pickle.dat\", \"rb\"))\n"
   ]
  },
  {
   "cell_type": "code",
   "execution_count": 3,
   "metadata": {},
   "outputs": [],
   "source": [
    "#create a repo for received emals\n",
    "try:\n",
    "    os.mkdir(\"./emails\")\n",
    "except:\n",
    "    pass"
   ]
  },
  {
   "cell_type": "code",
   "execution_count": 4,
   "metadata": {},
   "outputs": [],
   "source": [
    "def analyze_email():\n",
    "    for email in files:\n",
    "        urls = []\n",
    "        with open(f\"./emails/{email}\") as file:\n",
    "                for line in file:\n",
    "                    if line != \"\":\n",
    "                        url = re.findall('https?://(?:[-\\w.]|(?:%[\\da-fA-F]{2}))+', line)\n",
    "                        if len( url) != 0:\n",
    "                                for ur in url:\n",
    "                                    urls.append(ur)\n",
    "        \n",
    "        print(f\"{email} contains {len(urls)} urls which are: {urls}\")\n",
    "        print(\"\\n\\n\\n\")\n",
    "        \n",
    "        #extract features from the new urls then feed them to the XGboost model\n",
    "        predictions = make_prediction(urls,loaded_model)\n",
    "\n",
    "        spam = False\n",
    "\n",
    "        for url, classes in zip(urls,predictions):\n",
    "            if classes == 1:  #if the url is malicious\n",
    "                print(f\"{url} is detected as a phishing url\")\n",
    "                spam = True  #classify the email as spam\n",
    "            else:\n",
    "                print(f\"{url} is detected as a normal url\")\n",
    "        print(\"\\n\\n\\n\")\n",
    "        if spam:\n",
    "            print(f\"Be careful, {email} is a spam :(\")\n",
    "        else:\n",
    "            print(f\"Good, {email} is not a spam :)\")\n",
    "\n",
    "        print(\"****************************************************************************\")\n",
    "    "
   ]
  },
  {
   "cell_type": "code",
   "execution_count": 5,
   "metadata": {},
   "outputs": [],
   "source": [
    "#get the emails stored in the folder\n",
    "files = os.listdir('./emails')"
   ]
  },
  {
   "cell_type": "code",
   "execution_count": 7,
   "metadata": {},
   "outputs": [
    {
     "name": "stdout",
     "output_type": "stream",
     "text": [
      "email1.txt contains 1 urls which are: ['https://www.uber.com']\n",
      "\n",
      "\n",
      "\n",
      "\n",
      "https://www.uber.com is detected as a normal url\n",
      "\n",
      "\n",
      "\n",
      "\n",
      "Good, email1.txt is not a spam :)\n",
      "****************************************************************************\n",
      "email2.txt contains 2 urls which are: ['http://qsdq-sfsd.com', 'http://www.vca9csh.com']\n",
      "\n",
      "\n",
      "\n",
      "\n",
      "http://qsdq-sfsd.com is detected as a phishing url\n",
      "http://www.vca9csh.com is detected as a phishing url\n",
      "\n",
      "\n",
      "\n",
      "\n",
      "Be careful, email2.txt is a spam :(\n",
      "****************************************************************************\n",
      "email3.txt contains 1 urls which are: ['http://sntbgxuhq.vanmx.xyz']\n",
      "\n",
      "\n",
      "\n",
      "\n",
      "http://sntbgxuhq.vanmx.xyz is detected as a phishing url\n",
      "\n",
      "\n",
      "\n",
      "\n",
      "Be careful, email3.txt is a spam :(\n",
      "****************************************************************************\n"
     ]
    }
   ],
   "source": [
    "#analyze emails\n",
    "analyze_email()"
   ]
  }
 ],
 "metadata": {
  "kernelspec": {
   "display_name": "Python 3.7.10 ('base')",
   "language": "python",
   "name": "python3"
  },
  "language_info": {
   "codemirror_mode": {
    "name": "ipython",
    "version": 3
   },
   "file_extension": ".py",
   "mimetype": "text/x-python",
   "name": "python",
   "nbconvert_exporter": "python",
   "pygments_lexer": "ipython3",
   "version": "3.7.10"
  },
  "orig_nbformat": 4,
  "vscode": {
   "interpreter": {
    "hash": "a077222d77dfe082b8f1dd562ad70e458ac2ab76993a0b248ab0476e32e9e8dd"
   }
  }
 },
 "nbformat": 4,
 "nbformat_minor": 2
}
