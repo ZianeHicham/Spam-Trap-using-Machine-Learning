{
  "cells": [
    {
      "cell_type": "code",
      "execution_count": 1,
      "metadata": {
        "id": "IsQiKkCEN7EG"
      },
      "outputs": [],
      "source": [
        "import pandas as pd\n",
        "import re\n",
        "import warnings\n",
        "warnings.simplefilter(action='ignore', category=Warning)\n",
        "import pickle\n",
        "import tldextract\n",
        "import whois\n",
        "from datetime import datetime\n",
        "from urllib.parse import urlparse,urlencode\n",
        "from tqdm import tqdm\n",
        "current = datetime.now()"
      ]
    },
    {
      "cell_type": "markdown",
      "metadata": {
        "id": "3JM72kZBNw0G"
      },
      "source": [
        "# Nouvelle section"
      ]
    },
    {
      "cell_type": "code",
      "execution_count": 2,
      "metadata": {
        "id": "9zpVirB2OQZm"
      },
      "outputs": [
        {
          "data": {
            "text/html": [
              "<div>\n",
              "<style scoped>\n",
              "    .dataframe tbody tr th:only-of-type {\n",
              "        vertical-align: middle;\n",
              "    }\n",
              "\n",
              "    .dataframe tbody tr th {\n",
              "        vertical-align: top;\n",
              "    }\n",
              "\n",
              "    .dataframe thead th {\n",
              "        text-align: right;\n",
              "    }\n",
              "</style>\n",
              "<table border=\"1\" class=\"dataframe\">\n",
              "  <thead>\n",
              "    <tr style=\"text-align: right;\">\n",
              "      <th></th>\n",
              "      <th>url</th>\n",
              "      <th>type</th>\n",
              "    </tr>\n",
              "  </thead>\n",
              "  <tbody>\n",
              "    <tr>\n",
              "      <th>0</th>\n",
              "      <td>br-icloud.com.br</td>\n",
              "      <td>phishing</td>\n",
              "    </tr>\n",
              "    <tr>\n",
              "      <th>1</th>\n",
              "      <td>mp3raid.com/music/krizz_kaliko.html</td>\n",
              "      <td>benign</td>\n",
              "    </tr>\n",
              "    <tr>\n",
              "      <th>2</th>\n",
              "      <td>bopsecrets.org/rexroth/cr/1.htm</td>\n",
              "      <td>benign</td>\n",
              "    </tr>\n",
              "    <tr>\n",
              "      <th>3</th>\n",
              "      <td>http://www.garage-pirenne.be/index.php?option=...</td>\n",
              "      <td>defacement</td>\n",
              "    </tr>\n",
              "    <tr>\n",
              "      <th>4</th>\n",
              "      <td>http://adventure-nicaragua.net/index.php?optio...</td>\n",
              "      <td>defacement</td>\n",
              "    </tr>\n",
              "  </tbody>\n",
              "</table>\n",
              "</div>"
            ],
            "text/plain": [
              "                                                 url        type\n",
              "0                                   br-icloud.com.br    phishing\n",
              "1                mp3raid.com/music/krizz_kaliko.html      benign\n",
              "2                    bopsecrets.org/rexroth/cr/1.htm      benign\n",
              "3  http://www.garage-pirenne.be/index.php?option=...  defacement\n",
              "4  http://adventure-nicaragua.net/index.php?optio...  defacement"
            ]
          },
          "execution_count": 2,
          "metadata": {},
          "output_type": "execute_result"
        }
      ],
      "source": [
        "#import data\n",
        "df = pd.read_csv(\"spam2.csv\", encoding='latin-1',nrows = 10000)\n",
        "df.head()"
      ]
    },
    {
      "cell_type": "code",
      "execution_count": 3,
      "metadata": {
        "id": "L_v9qpkbdfpY"
      },
      "outputs": [
        {
          "data": {
            "text/plain": [
              "(10000, 2)"
            ]
          },
          "execution_count": 3,
          "metadata": {},
          "output_type": "execute_result"
        }
      ],
      "source": [
        "#data shape\n",
        "df.shape"
      ]
    },
    {
      "cell_type": "markdown",
      "metadata": {
        "id": "kf5UXciGOdRv"
      },
      "source": [
        "# Nouvelle section"
      ]
    },
    {
      "cell_type": "code",
      "execution_count": 4,
      "metadata": {
        "id": "DPvCj9buO3PM"
      },
      "outputs": [],
      "source": [
        "#to simplify the problem, we gonna transform all malicious urls' type to one type which is phishing\n",
        "def cleaning(x):\n",
        "    if (x == \"malware\") | (x == \"defacement\") | (x== \"phishing\"):\n",
        "        return 1\n",
        "    else:\n",
        "        return 0"
      ]
    },
    {
      "cell_type": "code",
      "execution_count": 5,
      "metadata": {
        "id": "pi-pD6dqQyuD"
      },
      "outputs": [],
      "source": [
        "#apply cleaning function on the urls\n",
        "df['type'] = df['type'].apply(cleaning)"
      ]
    },
    {
      "cell_type": "code",
      "execution_count": 6,
      "metadata": {
        "id": "d2f47HsHdj-A"
      },
      "outputs": [
        {
          "data": {
            "text/plain": [
              "0    7325\n",
              "1    2675\n",
              "Name: type, dtype: int64"
            ]
          },
          "execution_count": 6,
          "metadata": {},
          "output_type": "execute_result"
        }
      ],
      "source": [
        "#now we have only two types of urls, benign --> good and phishing --> bad\n",
        "df['type'].value_counts()"
      ]
    },
    {
      "cell_type": "code",
      "execution_count": 7,
      "metadata": {
        "id": "aaDo9b5wQ0VF"
      },
      "outputs": [],
      "source": [
        "def is_shortened(domain_name):\n",
        "    list = [\"bit.ly\",\"tinyurl\",\"ow.ly\",\"goo.gl\",\"tiny.cc\",\"shorte.st\",\"BudURL.com\"]\n",
        "    for i in list:\n",
        "        if i in domain_name :\n",
        "            return 1\n",
        "        else:\n",
        "            return 0"
      ]
    },
    {
      "cell_type": "code",
      "execution_count": 8,
      "metadata": {
        "id": "uYvEFVENQ4q7"
      },
      "outputs": [],
      "source": [
        "def is_redirecting(url):\n",
        "    position = url.rfind(\"//\")\n",
        "    if position > 6: # case of http \n",
        "        if position > 7: # case of https\n",
        "            return 1\n",
        "        else : \n",
        "            return 0\n",
        "    else:\n",
        "        return 0"
      ]
    },
    {
      "cell_type": "code",
      "execution_count": 9,
      "metadata": {
        "id": "dZZfPK13Q6WQ"
      },
      "outputs": [
        {
          "data": {
            "text/html": [
              "<div>\n",
              "<style scoped>\n",
              "    .dataframe tbody tr th:only-of-type {\n",
              "        vertical-align: middle;\n",
              "    }\n",
              "\n",
              "    .dataframe tbody tr th {\n",
              "        vertical-align: top;\n",
              "    }\n",
              "\n",
              "    .dataframe thead th {\n",
              "        text-align: right;\n",
              "    }\n",
              "</style>\n",
              "<table border=\"1\" class=\"dataframe\">\n",
              "  <thead>\n",
              "    <tr style=\"text-align: right;\">\n",
              "      <th></th>\n",
              "      <th>url</th>\n",
              "      <th>type</th>\n",
              "      <th>domaine_name</th>\n",
              "      <th>contains_dash</th>\n",
              "      <th>contains_at</th>\n",
              "      <th>contains_percent</th>\n",
              "      <th>url_len</th>\n",
              "      <th>url_depth</th>\n",
              "      <th>use_https</th>\n",
              "      <th>digits</th>\n",
              "      <th>redirection</th>\n",
              "      <th>contains_ip</th>\n",
              "      <th>shortening</th>\n",
              "    </tr>\n",
              "  </thead>\n",
              "  <tbody>\n",
              "    <tr>\n",
              "      <th>0</th>\n",
              "      <td>br-icloud.com.br</td>\n",
              "      <td>1</td>\n",
              "      <td>br-icloud.com.br</td>\n",
              "      <td>1</td>\n",
              "      <td>0</td>\n",
              "      <td>0</td>\n",
              "      <td>16</td>\n",
              "      <td>1</td>\n",
              "      <td>0</td>\n",
              "      <td>0</td>\n",
              "      <td>0</td>\n",
              "      <td>0</td>\n",
              "      <td>0</td>\n",
              "    </tr>\n",
              "    <tr>\n",
              "      <th>1</th>\n",
              "      <td>mp3raid.com/music/krizz_kaliko.html</td>\n",
              "      <td>0</td>\n",
              "      <td>mp3raid.com</td>\n",
              "      <td>0</td>\n",
              "      <td>0</td>\n",
              "      <td>0</td>\n",
              "      <td>35</td>\n",
              "      <td>3</td>\n",
              "      <td>0</td>\n",
              "      <td>1</td>\n",
              "      <td>0</td>\n",
              "      <td>0</td>\n",
              "      <td>0</td>\n",
              "    </tr>\n",
              "    <tr>\n",
              "      <th>2</th>\n",
              "      <td>bopsecrets.org/rexroth/cr/1.htm</td>\n",
              "      <td>0</td>\n",
              "      <td>bopsecrets.org</td>\n",
              "      <td>0</td>\n",
              "      <td>0</td>\n",
              "      <td>0</td>\n",
              "      <td>31</td>\n",
              "      <td>4</td>\n",
              "      <td>0</td>\n",
              "      <td>1</td>\n",
              "      <td>0</td>\n",
              "      <td>0</td>\n",
              "      <td>0</td>\n",
              "    </tr>\n",
              "    <tr>\n",
              "      <th>3</th>\n",
              "      <td>http://www.garage-pirenne.be/index.php?option=...</td>\n",
              "      <td>1</td>\n",
              "      <td>garage-pirenne.be</td>\n",
              "      <td>1</td>\n",
              "      <td>0</td>\n",
              "      <td>0</td>\n",
              "      <td>88</td>\n",
              "      <td>4</td>\n",
              "      <td>0</td>\n",
              "      <td>7</td>\n",
              "      <td>0</td>\n",
              "      <td>0</td>\n",
              "      <td>0</td>\n",
              "    </tr>\n",
              "    <tr>\n",
              "      <th>4</th>\n",
              "      <td>http://adventure-nicaragua.net/index.php?optio...</td>\n",
              "      <td>1</td>\n",
              "      <td>adventure-nicaragua.net</td>\n",
              "      <td>1</td>\n",
              "      <td>0</td>\n",
              "      <td>0</td>\n",
              "      <td>235</td>\n",
              "      <td>4</td>\n",
              "      <td>0</td>\n",
              "      <td>22</td>\n",
              "      <td>0</td>\n",
              "      <td>0</td>\n",
              "      <td>0</td>\n",
              "    </tr>\n",
              "  </tbody>\n",
              "</table>\n",
              "</div>"
            ],
            "text/plain": [
              "                                                 url  type  \\\n",
              "0                                   br-icloud.com.br     1   \n",
              "1                mp3raid.com/music/krizz_kaliko.html     0   \n",
              "2                    bopsecrets.org/rexroth/cr/1.htm     0   \n",
              "3  http://www.garage-pirenne.be/index.php?option=...     1   \n",
              "4  http://adventure-nicaragua.net/index.php?optio...     1   \n",
              "\n",
              "              domaine_name  contains_dash  contains_at  contains_percent  \\\n",
              "0         br-icloud.com.br              1            0                 0   \n",
              "1              mp3raid.com              0            0                 0   \n",
              "2           bopsecrets.org              0            0                 0   \n",
              "3        garage-pirenne.be              1            0                 0   \n",
              "4  adventure-nicaragua.net              1            0                 0   \n",
              "\n",
              "   url_len  url_depth  use_https  digits  redirection  contains_ip  shortening  \n",
              "0       16          1          0       0            0            0           0  \n",
              "1       35          3          0       1            0            0           0  \n",
              "2       31          4          0       1            0            0           0  \n",
              "3       88          4          0       7            0            0           0  \n",
              "4      235          4          0      22            0            0           0  "
            ]
          },
          "execution_count": 9,
          "metadata": {},
          "output_type": "execute_result"
        }
      ],
      "source": [
        "#now we will add the features that we need to train our models\n",
        "df['domaine_name'] = df['url'].apply(lambda x : tldextract.extract(x).registered_domain)\n",
        "df['contains_dash'] = df['domaine_name'].apply(lambda x : 1 if '-' in x else 0 )\n",
        "df['contains_at'] = df['url'].apply(lambda x : 1 if '@' in x else 0 )\n",
        "df['contains_percent'] = df['url'].apply(lambda x : 1 if '%' in x else 0 )\n",
        "df['url_len'] = df['url'].apply(lambda x : len(x))\n",
        "df['url_depth'] = df['url'].apply(lambda x : len(x.split(\"/\")))\n",
        "df['use_https'] = df['url'].apply(lambda x : 1 if \"https\" in x else 0)\n",
        "df['digits'] = df['url'].apply(lambda x : len(\"\".join(_ for _ in x if _.isdigit())))\n",
        "df['redirection']=df['url'].apply(lambda x :is_redirecting(x))\n",
        "df['contains_ip']= df['domaine_name'].apply(lambda x :1 if x=='' else 0 )\n",
        "df['shortening']=df['domaine_name'].apply(lambda x :is_shortened(x))\n",
        "df.head()"
      ]
    },
    {
      "cell_type": "code",
      "execution_count": 10,
      "metadata": {
        "id": "O_2hom2QbaRg"
      },
      "outputs": [],
      "source": [
        "def age_domaine(domain_name):\n",
        "  creation_date = domain_name.creation_date\n",
        "  expiration_date = domain_name.expiration_date\n",
        "  if (isinstance(creation_date,str) or isinstance(expiration_date,str)):\n",
        "    try:\n",
        "      creation_date = datetime.strptime(creation_date,'%Y-%m-%d')\n",
        "      expiration_date = datetime.strptime(expiration_date,\"%Y-%m-%d\")\n",
        "    except:\n",
        "      return 1\n",
        "  if ((expiration_date is None) or (creation_date is None)):\n",
        "      return 1\n",
        "  elif ((type(expiration_date) is list) or (type(creation_date) is list)):\n",
        "      return 1\n",
        "  else:\n",
        "    ageofdomain = abs((expiration_date - creation_date).days)\n",
        "    if ((ageofdomain/30) < 6):\n",
        "      age = 1\n",
        "    else:\n",
        "      age = 0\n",
        "  return age"
      ]
    },
    {
      "cell_type": "code",
      "execution_count": 11,
      "metadata": {
        "id": "gVy67d4Bb_oa"
      },
      "outputs": [],
      "source": [
        "def regestered_age(url):\n",
        "  t = []\n",
        "  dns = 0\n",
        "  try:\n",
        "    domain_name = whois.whois(urlparse(url).netloc)\n",
        "  except:\n",
        "    dns = 1\n",
        "  t.append(dns)\n",
        "  t.append(1 if dns == 1 else age_domaine(domain_name))\n",
        "  return t"
      ]
    },
    {
      "cell_type": "code",
      "execution_count": 12,
      "metadata": {},
      "outputs": [
        {
          "name": "stderr",
          "output_type": "stream",
          "text": [
            "  1%|▏         | 125/10000 [00:10<10:07, 16.25it/s]"
          ]
        },
        {
          "name": "stdout",
          "output_type": "stream",
          "text": [
            "Error trying to connect to socket: closing socket - [Errno 11001] getaddrinfo failed\n"
          ]
        },
        {
          "name": "stderr",
          "output_type": "stream",
          "text": [
            "  4%|▎         | 353/10000 [00:41<10:02, 16.01it/s]  "
          ]
        },
        {
          "name": "stdout",
          "output_type": "stream",
          "text": [
            "Error trying to connect to socket: closing socket - [Errno 11001] getaddrinfo failed\n"
          ]
        },
        {
          "name": "stderr",
          "output_type": "stream",
          "text": [
            "  4%|▍         | 440/10000 [00:49<08:28, 18.81it/s]"
          ]
        },
        {
          "name": "stdout",
          "output_type": "stream",
          "text": [
            "Error trying to connect to socket: closing socket - [Errno 11001] getaddrinfo failed\n"
          ]
        },
        {
          "name": "stderr",
          "output_type": "stream",
          "text": [
            "  5%|▍         | 475/10000 [00:52<13:54, 11.42it/s]"
          ]
        },
        {
          "name": "stdout",
          "output_type": "stream",
          "text": [
            "Error trying to connect to socket: closing socket - [Errno 11001] getaddrinfo failed\n"
          ]
        },
        {
          "name": "stderr",
          "output_type": "stream",
          "text": [
            "  9%|▊         | 856/10000 [01:57<10:06, 15.08it/s]  "
          ]
        },
        {
          "name": "stdout",
          "output_type": "stream",
          "text": [
            "Error trying to connect to socket: closing socket - [Errno 11001] getaddrinfo failed\n"
          ]
        },
        {
          "name": "stderr",
          "output_type": "stream",
          "text": [
            " 12%|█▏        | 1152/10000 [02:26<15:32,  9.49it/s]"
          ]
        },
        {
          "name": "stdout",
          "output_type": "stream",
          "text": [
            "Error trying to connect to socket: closing socket - [Errno 11001] getaddrinfo failed\n"
          ]
        },
        {
          "name": "stderr",
          "output_type": "stream",
          "text": [
            " 13%|█▎        | 1347/10000 [02:52<31:38,  4.56it/s]  "
          ]
        },
        {
          "name": "stdout",
          "output_type": "stream",
          "text": [
            "Error trying to connect to socket: closing socket - [WinError 10054] Une connexion existante a dû être fermée par l’hôte distant\n"
          ]
        },
        {
          "name": "stderr",
          "output_type": "stream",
          "text": [
            " 14%|█▎        | 1362/10000 [02:53<11:39, 12.35it/s]"
          ]
        },
        {
          "name": "stdout",
          "output_type": "stream",
          "text": [
            "Error trying to connect to socket: closing socket - [Errno 11001] getaddrinfo failed\n"
          ]
        },
        {
          "name": "stderr",
          "output_type": "stream",
          "text": [
            " 15%|█▍        | 1490/10000 [03:04<11:38, 12.18it/s]"
          ]
        },
        {
          "name": "stdout",
          "output_type": "stream",
          "text": [
            "Error trying to connect to socket: closing socket - [Errno 11001] getaddrinfo failed\n"
          ]
        },
        {
          "name": "stderr",
          "output_type": "stream",
          "text": [
            " 15%|█▍        | 1495/10000 [03:04<11:36, 12.21it/s]"
          ]
        },
        {
          "name": "stdout",
          "output_type": "stream",
          "text": [
            "Error trying to connect to socket: closing socket - [Errno 11001] getaddrinfo failed\n"
          ]
        },
        {
          "name": "stderr",
          "output_type": "stream",
          "text": [
            " 15%|█▌        | 1536/10000 [03:14<32:48,  4.30it/s]  "
          ]
        },
        {
          "name": "stdout",
          "output_type": "stream",
          "text": [
            "Error trying to connect to socket: closing socket - [Errno 11001] getaddrinfo failed\n"
          ]
        },
        {
          "name": "stderr",
          "output_type": "stream",
          "text": [
            " 16%|█▌        | 1568/10000 [03:16<09:41, 14.49it/s]"
          ]
        },
        {
          "name": "stdout",
          "output_type": "stream",
          "text": [
            "Error trying to connect to socket: closing socket - [Errno 11001] getaddrinfo failed\n"
          ]
        },
        {
          "name": "stderr",
          "output_type": "stream",
          "text": [
            " 16%|█▌        | 1607/10000 [03:19<11:40, 11.97it/s]"
          ]
        },
        {
          "name": "stdout",
          "output_type": "stream",
          "text": [
            "Error trying to connect to socket: closing socket - [Errno 11001] getaddrinfo failed\n"
          ]
        },
        {
          "name": "stderr",
          "output_type": "stream",
          "text": [
            " 17%|█▋        | 1709/10000 [03:28<08:30, 16.24it/s]"
          ]
        },
        {
          "name": "stdout",
          "output_type": "stream",
          "text": [
            "Error trying to connect to socket: closing socket - [Errno 11001] getaddrinfo failed\n"
          ]
        },
        {
          "name": "stderr",
          "output_type": "stream",
          "text": [
            " 19%|█▉        | 1888/10000 [03:45<09:32, 14.17it/s]"
          ]
        },
        {
          "name": "stdout",
          "output_type": "stream",
          "text": [
            "Error trying to connect to socket: closing socket - [Errno 11001] getaddrinfo failed\n"
          ]
        },
        {
          "name": "stderr",
          "output_type": "stream",
          "text": [
            " 21%|██        | 2076/10000 [04:03<09:35, 13.76it/s]"
          ]
        },
        {
          "name": "stdout",
          "output_type": "stream",
          "text": [
            "Error trying to connect to socket: closing socket - [Errno 11001] getaddrinfo failed\n"
          ]
        },
        {
          "name": "stderr",
          "output_type": "stream",
          "text": [
            " 22%|██▏       | 2218/10000 [04:16<12:31, 10.35it/s]"
          ]
        },
        {
          "name": "stdout",
          "output_type": "stream",
          "text": [
            "Error trying to connect to socket: closing socket - [Errno 11001] getaddrinfo failed\n"
          ]
        },
        {
          "name": "stderr",
          "output_type": "stream",
          "text": [
            " 27%|██▋       | 2707/10000 [05:01<10:33, 11.51it/s]"
          ]
        },
        {
          "name": "stdout",
          "output_type": "stream",
          "text": [
            "Error trying to connect to socket: closing socket - [Errno 11001] getaddrinfo failed\n"
          ]
        },
        {
          "name": "stderr",
          "output_type": "stream",
          "text": [
            " 27%|██▋       | 2730/10000 [05:03<07:37, 15.88it/s]"
          ]
        },
        {
          "name": "stdout",
          "output_type": "stream",
          "text": [
            "Error trying to connect to socket: closing socket - [Errno 11001] getaddrinfo failed\n"
          ]
        },
        {
          "name": "stderr",
          "output_type": "stream",
          "text": [
            " 28%|██▊       | 2754/10000 [05:05<09:59, 12.09it/s]"
          ]
        },
        {
          "name": "stdout",
          "output_type": "stream",
          "text": [
            "Error trying to connect to socket: closing socket - [Errno 11001] getaddrinfo failed\n"
          ]
        },
        {
          "name": "stderr",
          "output_type": "stream",
          "text": [
            " 29%|██▊       | 2854/10000 [05:14<08:00, 14.86it/s]"
          ]
        },
        {
          "name": "stdout",
          "output_type": "stream",
          "text": [
            "Error trying to connect to socket: closing socket - [Errno 11001] getaddrinfo failed\n"
          ]
        },
        {
          "name": "stderr",
          "output_type": "stream",
          "text": [
            " 29%|██▉       | 2888/10000 [05:16<07:37, 15.53it/s]"
          ]
        },
        {
          "name": "stdout",
          "output_type": "stream",
          "text": [
            "Error trying to connect to socket: closing socket - [Errno 11001] getaddrinfo failed\n"
          ]
        },
        {
          "name": "stderr",
          "output_type": "stream",
          "text": [
            " 30%|███       | 3028/10000 [05:25<06:33, 17.70it/s]"
          ]
        },
        {
          "name": "stdout",
          "output_type": "stream",
          "text": [
            "Error trying to connect to socket: closing socket - [Errno 11001] getaddrinfo failed\n"
          ]
        },
        {
          "name": "stderr",
          "output_type": "stream",
          "text": [
            " 31%|███       | 3117/10000 [05:34<10:11, 11.25it/s]"
          ]
        },
        {
          "name": "stdout",
          "output_type": "stream",
          "text": [
            "Error trying to connect to socket: closing socket - [Errno 11001] getaddrinfo failed\n"
          ]
        },
        {
          "name": "stderr",
          "output_type": "stream",
          "text": [
            " 32%|███▏      | 3155/10000 [05:36<05:23, 21.13it/s]"
          ]
        },
        {
          "name": "stdout",
          "output_type": "stream",
          "text": [
            "Error trying to connect to socket: closing socket - [Errno 11001] getaddrinfo failed\n"
          ]
        },
        {
          "name": "stderr",
          "output_type": "stream",
          "text": [
            " 32%|███▏      | 3228/10000 [05:46<06:47, 16.61it/s]"
          ]
        },
        {
          "name": "stdout",
          "output_type": "stream",
          "text": [
            "Error trying to connect to socket: closing socket - [Errno 11001] getaddrinfo failed\n"
          ]
        },
        {
          "name": "stderr",
          "output_type": "stream",
          "text": [
            " 34%|███▎      | 3364/10000 [05:57<06:54, 16.03it/s]"
          ]
        },
        {
          "name": "stdout",
          "output_type": "stream",
          "text": [
            "Error trying to connect to socket: closing socket - [Errno 11001] getaddrinfo failed\n"
          ]
        },
        {
          "name": "stderr",
          "output_type": "stream",
          "text": [
            " 35%|███▍      | 3465/10000 [06:24<1:06:05,  1.65it/s]"
          ]
        },
        {
          "name": "stdout",
          "output_type": "stream",
          "text": [
            "Error trying to connect to socket: closing socket - [Errno 11001] getaddrinfo failed\n"
          ]
        },
        {
          "name": "stderr",
          "output_type": "stream",
          "text": [
            " 37%|███▋      | 3680/10000 [06:47<20:44,  5.08it/s]  "
          ]
        },
        {
          "name": "stdout",
          "output_type": "stream",
          "text": [
            "Error trying to connect to socket: closing socket - [WinError 10054] Une connexion existante a dû être fermée par l’hôte distant\n"
          ]
        },
        {
          "name": "stderr",
          "output_type": "stream",
          "text": [
            " 39%|███▉      | 3900/10000 [07:14<23:11,  4.38it/s]"
          ]
        },
        {
          "name": "stdout",
          "output_type": "stream",
          "text": [
            "Error trying to connect to socket: closing socket - [Errno 11001] getaddrinfo failed\n"
          ]
        },
        {
          "name": "stderr",
          "output_type": "stream",
          "text": [
            " 44%|████▍     | 4416/10000 [08:09<05:29, 16.95it/s]"
          ]
        },
        {
          "name": "stdout",
          "output_type": "stream",
          "text": [
            "Error trying to connect to socket: closing socket - [Errno 11001] getaddrinfo failed\n"
          ]
        },
        {
          "name": "stderr",
          "output_type": "stream",
          "text": [
            " 46%|████▌     | 4608/10000 [08:28<05:24, 16.63it/s]"
          ]
        },
        {
          "name": "stdout",
          "output_type": "stream",
          "text": [
            "Error trying to connect to socket: closing socket - [Errno 11001] getaddrinfo failed\n"
          ]
        },
        {
          "name": "stderr",
          "output_type": "stream",
          "text": [
            " 47%|████▋     | 4672/10000 [08:31<02:33, 34.74it/s]"
          ]
        },
        {
          "name": "stdout",
          "output_type": "stream",
          "text": [
            "Error trying to connect to socket: closing socket - [Errno 11001] getaddrinfo failed\n"
          ]
        },
        {
          "name": "stderr",
          "output_type": "stream",
          "text": [
            " 47%|████▋     | 4693/10000 [08:35<11:10,  7.92it/s]"
          ]
        },
        {
          "name": "stdout",
          "output_type": "stream",
          "text": [
            "Error trying to connect to socket: closing socket - [Errno 11001] getaddrinfo failed\n"
          ]
        },
        {
          "name": "stderr",
          "output_type": "stream",
          "text": [
            " 48%|████▊     | 4774/10000 [08:42<09:34,  9.09it/s]"
          ]
        },
        {
          "name": "stdout",
          "output_type": "stream",
          "text": [
            "Error trying to connect to socket: closing socket - [Errno 11001] getaddrinfo failed\n"
          ]
        },
        {
          "name": "stderr",
          "output_type": "stream",
          "text": [
            " 49%|████▉     | 4932/10000 [08:58<06:53, 12.26it/s]"
          ]
        },
        {
          "name": "stdout",
          "output_type": "stream",
          "text": [
            "Error trying to connect to socket: closing socket - [Errno 11001] getaddrinfo failed\n"
          ]
        },
        {
          "name": "stderr",
          "output_type": "stream",
          "text": [
            " 51%|█████     | 5053/10000 [09:09<03:33, 23.13it/s]"
          ]
        },
        {
          "name": "stdout",
          "output_type": "stream",
          "text": [
            "Error trying to connect to socket: closing socket - [Errno 11001] getaddrinfo failed\n",
            "Error trying to connect to socket: closing socket - [WinError 10054] Une connexion existante a dû être fermée par l’hôte distant\n"
          ]
        },
        {
          "name": "stderr",
          "output_type": "stream",
          "text": [
            " 51%|█████     | 5071/10000 [09:11<08:06, 10.14it/s]"
          ]
        },
        {
          "name": "stdout",
          "output_type": "stream",
          "text": [
            "Error trying to connect to socket: closing socket - [Errno 11001] getaddrinfo failed\n"
          ]
        },
        {
          "name": "stderr",
          "output_type": "stream",
          "text": [
            " 53%|█████▎    | 5263/10000 [09:34<09:50,  8.02it/s]"
          ]
        },
        {
          "name": "stdout",
          "output_type": "stream",
          "text": [
            "Error trying to connect to socket: closing socket - [Errno 11001] getaddrinfo failed\n"
          ]
        },
        {
          "name": "stderr",
          "output_type": "stream",
          "text": [
            " 53%|█████▎    | 5271/10000 [09:35<08:54,  8.84it/s]"
          ]
        },
        {
          "name": "stdout",
          "output_type": "stream",
          "text": [
            "Error trying to connect to socket: closing socket - [Errno 11001] getaddrinfo failed\n"
          ]
        },
        {
          "name": "stderr",
          "output_type": "stream",
          "text": [
            " 54%|█████▍    | 5430/10000 [10:09<07:02, 10.83it/s]  "
          ]
        },
        {
          "name": "stdout",
          "output_type": "stream",
          "text": [
            "Error trying to connect to socket: closing socket - [Errno 11001] getaddrinfo failed\n"
          ]
        },
        {
          "name": "stderr",
          "output_type": "stream",
          "text": [
            " 62%|██████▏   | 6156/10000 [11:42<21:24,  2.99it/s]"
          ]
        },
        {
          "name": "stdout",
          "output_type": "stream",
          "text": [
            "Error trying to connect to socket: closing socket - [Errno 11001] getaddrinfo failed\n"
          ]
        },
        {
          "name": "stderr",
          "output_type": "stream",
          "text": [
            " 66%|██████▌   | 6577/10000 [12:35<04:56, 11.55it/s]"
          ]
        },
        {
          "name": "stdout",
          "output_type": "stream",
          "text": [
            "Error trying to connect to socket: closing socket - [Errno 11001] getaddrinfo failed\n"
          ]
        },
        {
          "name": "stderr",
          "output_type": "stream",
          "text": [
            " 67%|██████▋   | 6710/10000 [12:48<08:23,  6.54it/s]"
          ]
        },
        {
          "name": "stdout",
          "output_type": "stream",
          "text": [
            "Error trying to connect to socket: closing socket - [Errno 11001] getaddrinfo failed\n"
          ]
        },
        {
          "name": "stderr",
          "output_type": "stream",
          "text": [
            " 70%|███████   | 7023/10000 [13:32<02:48, 17.68it/s]"
          ]
        },
        {
          "name": "stdout",
          "output_type": "stream",
          "text": [
            "Error trying to connect to socket: closing socket - [WinError 10054] Une connexion existante a dû être fermée par l’hôte distant\n"
          ]
        },
        {
          "name": "stderr",
          "output_type": "stream",
          "text": [
            " 71%|███████▏  | 7146/10000 [13:56<43:18,  1.10it/s]"
          ]
        },
        {
          "name": "stdout",
          "output_type": "stream",
          "text": [
            "Error trying to connect to socket: closing socket - timed out\n"
          ]
        },
        {
          "name": "stderr",
          "output_type": "stream",
          "text": [
            " 72%|███████▏  | 7221/10000 [14:04<05:47,  8.00it/s]"
          ]
        },
        {
          "name": "stdout",
          "output_type": "stream",
          "text": [
            "Error trying to connect to socket: closing socket - [Errno 11001] getaddrinfo failed\n"
          ]
        },
        {
          "name": "stderr",
          "output_type": "stream",
          "text": [
            " 74%|███████▍  | 7449/10000 [14:33<05:30,  7.71it/s]"
          ]
        },
        {
          "name": "stdout",
          "output_type": "stream",
          "text": [
            "Error trying to connect to socket: closing socket - [Errno 11001] getaddrinfo failed\n"
          ]
        },
        {
          "name": "stderr",
          "output_type": "stream",
          "text": [
            " 82%|████████▏ | 8181/10000 [15:43<01:57, 15.52it/s]"
          ]
        },
        {
          "name": "stdout",
          "output_type": "stream",
          "text": [
            "Error trying to connect to socket: closing socket - [Errno 11001] getaddrinfo failed\n"
          ]
        },
        {
          "name": "stderr",
          "output_type": "stream",
          "text": [
            " 82%|████████▏ | 8217/10000 [15:46<02:38, 11.23it/s]"
          ]
        },
        {
          "name": "stdout",
          "output_type": "stream",
          "text": [
            "Error trying to connect to socket: closing socket - [Errno 11001] getaddrinfo failed\n"
          ]
        },
        {
          "name": "stderr",
          "output_type": "stream",
          "text": [
            " 86%|████████▌ | 8563/10000 [16:28<01:21, 17.73it/s]"
          ]
        },
        {
          "name": "stdout",
          "output_type": "stream",
          "text": [
            "Error trying to connect to socket: closing socket - [Errno 11001] getaddrinfo failed\n"
          ]
        },
        {
          "name": "stderr",
          "output_type": "stream",
          "text": [
            " 87%|████████▋ | 8665/10000 [16:44<02:16,  9.81it/s]"
          ]
        },
        {
          "name": "stdout",
          "output_type": "stream",
          "text": [
            "Error trying to connect to socket: closing socket - [WinError 10054] Une connexion existante a dû être fermée par l’hôte distant\n"
          ]
        },
        {
          "name": "stderr",
          "output_type": "stream",
          "text": [
            " 88%|████████▊ | 8752/10000 [16:48<00:40, 30.86it/s]"
          ]
        },
        {
          "name": "stdout",
          "output_type": "stream",
          "text": [
            "Error trying to connect to socket: closing socket - [Errno 11001] getaddrinfo failed\n"
          ]
        },
        {
          "name": "stderr",
          "output_type": "stream",
          "text": [
            " 89%|████████▊ | 8866/10000 [17:03<03:03,  6.19it/s]"
          ]
        },
        {
          "name": "stdout",
          "output_type": "stream",
          "text": [
            "Error trying to connect to socket: closing socket - [Errno 11001] getaddrinfo failed\n"
          ]
        },
        {
          "name": "stderr",
          "output_type": "stream",
          "text": [
            " 89%|████████▉ | 8912/10000 [17:07<01:23, 13.02it/s]"
          ]
        },
        {
          "name": "stdout",
          "output_type": "stream",
          "text": [
            "Error trying to connect to socket: closing socket - [Errno 11001] getaddrinfo failed\n"
          ]
        },
        {
          "name": "stderr",
          "output_type": "stream",
          "text": [
            " 94%|█████████▎| 9367/10000 [17:56<00:40, 15.57it/s]"
          ]
        },
        {
          "name": "stdout",
          "output_type": "stream",
          "text": [
            "Error trying to connect to socket: closing socket - [Errno 11001] getaddrinfo failed\n"
          ]
        },
        {
          "name": "stderr",
          "output_type": "stream",
          "text": [
            " 98%|█████████▊| 9820/10000 [18:44<00:10, 16.71it/s]"
          ]
        },
        {
          "name": "stdout",
          "output_type": "stream",
          "text": [
            "Error trying to connect to socket: closing socket - [Errno 11001] getaddrinfo failed\n"
          ]
        },
        {
          "name": "stderr",
          "output_type": "stream",
          "text": [
            " 99%|█████████▉| 9890/10000 [19:01<00:14,  7.68it/s]"
          ]
        },
        {
          "name": "stdout",
          "output_type": "stream",
          "text": [
            "Error trying to connect to socket: closing socket - [WinError 10054] Une connexion existante a dû être fermée par l’hôte distant\n"
          ]
        },
        {
          "name": "stderr",
          "output_type": "stream",
          "text": [
            "100%|█████████▉| 9989/10000 [19:23<00:03,  3.61it/s]"
          ]
        },
        {
          "name": "stdout",
          "output_type": "stream",
          "text": [
            "Error trying to connect to socket: closing socket - [Errno 11001] getaddrinfo failed\n"
          ]
        },
        {
          "name": "stderr",
          "output_type": "stream",
          "text": [
            "100%|██████████| 10000/10000 [19:24<00:00,  8.59it/s]\n"
          ]
        }
      ],
      "source": [
        "for i in tqdm(range(df.shape[0])):\n",
        "    is_registred,age = regestered_age(df.loc[i,\"url\"])\n",
        "    df.loc[i,\"is_regetered\"] = is_registred\n",
        "    df.loc[i,\"age\"] = age\n",
        "    "
      ]
    },
    {
      "cell_type": "code",
      "execution_count": 13,
      "metadata": {
        "id": "hYis5np0qmwQ"
      },
      "outputs": [],
      "source": [
        "#df['is_regetered']=df['url'].apply(lambda x :regestered_age(x)[0])"
      ]
    },
    {
      "cell_type": "code",
      "execution_count": 14,
      "metadata": {},
      "outputs": [],
      "source": [
        "#df['age']=df['url'].apply(lambda x :regestered_age(x)[1])"
      ]
    },
    {
      "cell_type": "code",
      "execution_count": 15,
      "metadata": {
        "id": "dglqyXCwqm3a"
      },
      "outputs": [
        {
          "data": {
            "text/html": [
              "<div>\n",
              "<style scoped>\n",
              "    .dataframe tbody tr th:only-of-type {\n",
              "        vertical-align: middle;\n",
              "    }\n",
              "\n",
              "    .dataframe tbody tr th {\n",
              "        vertical-align: top;\n",
              "    }\n",
              "\n",
              "    .dataframe thead th {\n",
              "        text-align: right;\n",
              "    }\n",
              "</style>\n",
              "<table border=\"1\" class=\"dataframe\">\n",
              "  <thead>\n",
              "    <tr style=\"text-align: right;\">\n",
              "      <th></th>\n",
              "      <th>url</th>\n",
              "      <th>type</th>\n",
              "      <th>domaine_name</th>\n",
              "      <th>contains_dash</th>\n",
              "      <th>contains_at</th>\n",
              "      <th>contains_percent</th>\n",
              "      <th>url_len</th>\n",
              "      <th>url_depth</th>\n",
              "      <th>use_https</th>\n",
              "      <th>digits</th>\n",
              "      <th>redirection</th>\n",
              "      <th>contains_ip</th>\n",
              "      <th>shortening</th>\n",
              "      <th>is_regetered</th>\n",
              "      <th>age</th>\n",
              "    </tr>\n",
              "  </thead>\n",
              "  <tbody>\n",
              "    <tr>\n",
              "      <th>0</th>\n",
              "      <td>br-icloud.com.br</td>\n",
              "      <td>1</td>\n",
              "      <td>br-icloud.com.br</td>\n",
              "      <td>1</td>\n",
              "      <td>0</td>\n",
              "      <td>0</td>\n",
              "      <td>16</td>\n",
              "      <td>1</td>\n",
              "      <td>0</td>\n",
              "      <td>0</td>\n",
              "      <td>0</td>\n",
              "      <td>0</td>\n",
              "      <td>0</td>\n",
              "      <td>0.0</td>\n",
              "      <td>1.0</td>\n",
              "    </tr>\n",
              "    <tr>\n",
              "      <th>1</th>\n",
              "      <td>mp3raid.com/music/krizz_kaliko.html</td>\n",
              "      <td>0</td>\n",
              "      <td>mp3raid.com</td>\n",
              "      <td>0</td>\n",
              "      <td>0</td>\n",
              "      <td>0</td>\n",
              "      <td>35</td>\n",
              "      <td>3</td>\n",
              "      <td>0</td>\n",
              "      <td>1</td>\n",
              "      <td>0</td>\n",
              "      <td>0</td>\n",
              "      <td>0</td>\n",
              "      <td>0.0</td>\n",
              "      <td>1.0</td>\n",
              "    </tr>\n",
              "    <tr>\n",
              "      <th>2</th>\n",
              "      <td>bopsecrets.org/rexroth/cr/1.htm</td>\n",
              "      <td>0</td>\n",
              "      <td>bopsecrets.org</td>\n",
              "      <td>0</td>\n",
              "      <td>0</td>\n",
              "      <td>0</td>\n",
              "      <td>31</td>\n",
              "      <td>4</td>\n",
              "      <td>0</td>\n",
              "      <td>1</td>\n",
              "      <td>0</td>\n",
              "      <td>0</td>\n",
              "      <td>0</td>\n",
              "      <td>0.0</td>\n",
              "      <td>1.0</td>\n",
              "    </tr>\n",
              "    <tr>\n",
              "      <th>3</th>\n",
              "      <td>http://www.garage-pirenne.be/index.php?option=...</td>\n",
              "      <td>1</td>\n",
              "      <td>garage-pirenne.be</td>\n",
              "      <td>1</td>\n",
              "      <td>0</td>\n",
              "      <td>0</td>\n",
              "      <td>88</td>\n",
              "      <td>4</td>\n",
              "      <td>0</td>\n",
              "      <td>7</td>\n",
              "      <td>0</td>\n",
              "      <td>0</td>\n",
              "      <td>0</td>\n",
              "      <td>0.0</td>\n",
              "      <td>1.0</td>\n",
              "    </tr>\n",
              "    <tr>\n",
              "      <th>4</th>\n",
              "      <td>http://adventure-nicaragua.net/index.php?optio...</td>\n",
              "      <td>1</td>\n",
              "      <td>adventure-nicaragua.net</td>\n",
              "      <td>1</td>\n",
              "      <td>0</td>\n",
              "      <td>0</td>\n",
              "      <td>235</td>\n",
              "      <td>4</td>\n",
              "      <td>0</td>\n",
              "      <td>22</td>\n",
              "      <td>0</td>\n",
              "      <td>0</td>\n",
              "      <td>0</td>\n",
              "      <td>1.0</td>\n",
              "      <td>1.0</td>\n",
              "    </tr>\n",
              "  </tbody>\n",
              "</table>\n",
              "</div>"
            ],
            "text/plain": [
              "                                                 url  type  \\\n",
              "0                                   br-icloud.com.br     1   \n",
              "1                mp3raid.com/music/krizz_kaliko.html     0   \n",
              "2                    bopsecrets.org/rexroth/cr/1.htm     0   \n",
              "3  http://www.garage-pirenne.be/index.php?option=...     1   \n",
              "4  http://adventure-nicaragua.net/index.php?optio...     1   \n",
              "\n",
              "              domaine_name  contains_dash  contains_at  contains_percent  \\\n",
              "0         br-icloud.com.br              1            0                 0   \n",
              "1              mp3raid.com              0            0                 0   \n",
              "2           bopsecrets.org              0            0                 0   \n",
              "3        garage-pirenne.be              1            0                 0   \n",
              "4  adventure-nicaragua.net              1            0                 0   \n",
              "\n",
              "   url_len  url_depth  use_https  digits  redirection  contains_ip  \\\n",
              "0       16          1          0       0            0            0   \n",
              "1       35          3          0       1            0            0   \n",
              "2       31          4          0       1            0            0   \n",
              "3       88          4          0       7            0            0   \n",
              "4      235          4          0      22            0            0   \n",
              "\n",
              "   shortening  is_regetered  age  \n",
              "0           0           0.0  1.0  \n",
              "1           0           0.0  1.0  \n",
              "2           0           0.0  1.0  \n",
              "3           0           0.0  1.0  \n",
              "4           0           1.0  1.0  "
            ]
          },
          "execution_count": 15,
          "metadata": {},
          "output_type": "execute_result"
        }
      ],
      "source": [
        "#here is our final dataset after features extraction\n",
        "df.head()"
      ]
    },
    {
      "cell_type": "markdown",
      "metadata": {},
      "source": [
        "# Tf-IDF Vectorizer"
      ]
    },
    {
      "cell_type": "code",
      "execution_count": 16,
      "metadata": {},
      "outputs": [],
      "source": [
        "#import the TfidfVectorizer\n",
        "from sklearn.feature_extraction.text import TfidfVectorizer"
      ]
    },
    {
      "cell_type": "code",
      "execution_count": 17,
      "metadata": {},
      "outputs": [],
      "source": [
        "#the tokens needed by tf-idf vectorizer to compute their tf-idf weight \n",
        "#will be created by this function\n",
        "def Tokenize(f):\n",
        "        \n",
        "    tokens_1 = str(f.encode('utf-8')).split('/') # make tokens after splitting by slash\n",
        "    total_Tokens = []\n",
        "    \n",
        "    \n",
        "\n",
        "    for token in tokens_1:\n",
        "\n",
        "        tokens =  str(token).split('-') # make tokens after splitting by dash (-)\n",
        "\n",
        "         \n",
        "    \n",
        "    tokens_dot = []\n",
        "   \n",
        "\n",
        "    for token in range(0,len(tokens)):\n",
        "                tokens_2 = str(tokens[token]).split('.') # make tokens after splitting by dot (.)\n",
        "                tokens_dot = tokens_dot + tokens_2\n",
        "                total_Tokens = total_Tokens + tokens + tokens_dot\n",
        "                total_Tokens = list(set(total_Tokens))  #remove redundant tokens\n",
        "\n",
        "    if 'com' in total_Tokens:\n",
        "            total_Tokens.remove('com') # removing .com since it occurs a lot of times and it should not be included in our features\n",
        "    \n",
        "    return total_Tokens"
      ]
    },
    {
      "cell_type": "code",
      "execution_count": 18,
      "metadata": {},
      "outputs": [],
      "source": [
        "#create the vectorizer\n",
        "vectorizer = TfidfVectorizer(tokenizer=Tokenize)"
      ]
    },
    {
      "cell_type": "code",
      "execution_count": 19,
      "metadata": {},
      "outputs": [],
      "source": [
        "#apply the vectorizer on links\n",
        "vectorized_links = vectorizer.fit_transform(df['url'])"
      ]
    },
    {
      "cell_type": "code",
      "execution_count": 20,
      "metadata": {},
      "outputs": [],
      "source": [
        "from scipy.sparse import csr_matrix"
      ]
    },
    {
      "cell_type": "code",
      "execution_count": 21,
      "metadata": {},
      "outputs": [],
      "source": [
        "#vectorized_links is a sparse matrix, so to concatenat other features with the \n",
        "#vectorized links, we need to transform their structure from dataframe to sparse matrix\n",
        "#generate a sparse matrix from the other features except urls \n",
        "OtherFeatures = csr_matrix(df.drop(['url','domaine_name','type'],axis=1))"
      ]
    },
    {
      "cell_type": "code",
      "execution_count": 22,
      "metadata": {},
      "outputs": [],
      "source": [
        "from scipy.sparse import hstack"
      ]
    },
    {
      "cell_type": "code",
      "execution_count": 23,
      "metadata": {},
      "outputs": [
        {
          "data": {
            "text/plain": [
              "<10000x17692 sparse matrix of type '<class 'numpy.float64'>'\n",
              "\twith 66194 stored elements in COOrdinate format>"
            ]
          },
          "execution_count": 23,
          "metadata": {},
          "output_type": "execute_result"
        }
      ],
      "source": [
        "#concatenat the two sparse matrixs (urls and the stas genertisticated from urls)\n",
        "X = hstack((vectorized_links, OtherFeatures))\n",
        "# X represents our independantes features\n",
        "X\n"
      ]
    },
    {
      "cell_type": "code",
      "execution_count": 24,
      "metadata": {},
      "outputs": [],
      "source": [
        "# we have urls and 1188 features"
      ]
    },
    {
      "cell_type": "code",
      "execution_count": 25,
      "metadata": {},
      "outputs": [],
      "source": [
        "#y is the dependant feature which we are trying to predict\n",
        "y = df['type']"
      ]
    },
    {
      "cell_type": "markdown",
      "metadata": {},
      "source": [
        "Now we are finished from the part of features engineering in which we have extracted multiple information from the urls. Also we have used the tf-idf vectorizer to use the url's content in the process of prediction"
      ]
    },
    {
      "cell_type": "markdown",
      "metadata": {},
      "source": [
        "# Machine Learning "
      ]
    },
    {
      "cell_type": "markdown",
      "metadata": {},
      "source": [
        "in this part we are going to test multiple classification models and we try to take the best one which gives us the best precision both on the train and test data"
      ]
    },
    {
      "cell_type": "code",
      "execution_count": 26,
      "metadata": {},
      "outputs": [],
      "source": [
        "#first we devide our dataset into two parts, one for training and the other for testing\n",
        "from sklearn.model_selection import train_test_split"
      ]
    },
    {
      "cell_type": "code",
      "execution_count": 27,
      "metadata": {},
      "outputs": [],
      "source": [
        "X_train, X_test, y_train, y_test = train_test_split(X,y,test_size=0.33, random_state=42)"
      ]
    },
    {
      "cell_type": "code",
      "execution_count": 28,
      "metadata": {},
      "outputs": [],
      "source": [
        "#these are the models which are going to use\n",
        "from sklearn.ensemble import RandomForestClassifier\n",
        "from sklearn.ensemble import AdaBoostClassifier\n",
        "from sklearn.ensemble import GradientBoostingClassifier\n",
        "from sklearn.svm import SVC\n",
        "from sklearn.linear_model import LogisticRegression\n",
        "from sklearn.neighbors import KNeighborsClassifier\n",
        "import xgboost as xgb"
      ]
    },
    {
      "cell_type": "code",
      "execution_count": 29,
      "metadata": {},
      "outputs": [],
      "source": [
        "# because of our dataset is unbalanced and we are most interested in the false postive rate, that means \n",
        "#we don't want that our model predicts that the message is spam and actually is not.\n",
        "#because of this error the user can miss a very important mail which classified as a spam by the model.\n",
        "from sklearn.metrics import precision_score"
      ]
    },
    {
      "cell_type": "code",
      "execution_count": 30,
      "metadata": {},
      "outputs": [],
      "source": [
        "#Create the models\n",
        "RandomForestClassifier = RandomForestClassifier()\n",
        "AdaBoostClassifier = AdaBoostClassifier()\n",
        "GradientBoostingClassifier = GradientBoostingClassifier()\n",
        "SVC = SVC()\n",
        "LogisticRegression = LogisticRegression()\n",
        "KNN = KNeighborsClassifier()\n",
        "xgb_cl = xgb.XGBClassifier()"
      ]
    },
    {
      "cell_type": "code",
      "execution_count": 31,
      "metadata": {},
      "outputs": [],
      "source": [
        "models = {\"LogisticRegression\" : LogisticRegression,\n",
        "\"RandomForestClassifier\" : RandomForestClassifier,\n",
        "\"AdaBoostClassifier\": AdaBoostClassifier,\n",
        "\"GradientBoostingClassifier\" : GradientBoostingClassifier,\n",
        "\"SVC\" : SVC,\n",
        "\"KNN\" : KNN,\n",
        "\"XGB\":xgb_cl}"
      ]
    },
    {
      "cell_type": "code",
      "execution_count": 32,
      "metadata": {},
      "outputs": [],
      "source": [
        "# a dictionary which will store the precision of each model both on train and test set\n",
        "results = {\"model\":[],\"train_precision\":[],\"test_precision\":[]}"
      ]
    },
    {
      "cell_type": "code",
      "execution_count": 33,
      "metadata": {},
      "outputs": [
        {
          "name": "stdout",
          "output_type": "stream",
          "text": [
            "LogisticRegression\n",
            "RandomForestClassifier\n",
            "AdaBoostClassifier\n",
            "GradientBoostingClassifier\n",
            "SVC\n",
            "KNN\n",
            "XGB\n"
          ]
        }
      ],
      "source": [
        "#train and test the performance of each model\n",
        "for name,model in models.items():\n",
        "    print(name)\n",
        "    results['model'].append(name)\n",
        "    #train the model\n",
        "    model.fit(X_train,y_train)\n",
        "    #make predictions\n",
        "    y_train_1 = model.predict(X_train)\n",
        "    y_test_1 = model.predict(X_test)\n",
        "    #compute the precision of the model\n",
        "    train_precision = precision_score(y_train,y_train_1)\n",
        "    test_precision = precision_score(y_test,y_test_1)\n",
        "    #store the results\n",
        "    results[\"train_precision\"].append(train_precision)\n",
        "    results[\"test_precision\"].append(test_precision)"
      ]
    },
    {
      "cell_type": "code",
      "execution_count": 34,
      "metadata": {},
      "outputs": [],
      "source": [
        "results_df = pd.DataFrame(results)"
      ]
    },
    {
      "cell_type": "code",
      "execution_count": 35,
      "metadata": {},
      "outputs": [
        {
          "data": {
            "text/html": [
              "<div>\n",
              "<style scoped>\n",
              "    .dataframe tbody tr th:only-of-type {\n",
              "        vertical-align: middle;\n",
              "    }\n",
              "\n",
              "    .dataframe tbody tr th {\n",
              "        vertical-align: top;\n",
              "    }\n",
              "\n",
              "    .dataframe thead th {\n",
              "        text-align: right;\n",
              "    }\n",
              "</style>\n",
              "<table border=\"1\" class=\"dataframe\">\n",
              "  <thead>\n",
              "    <tr style=\"text-align: right;\">\n",
              "      <th></th>\n",
              "      <th>model</th>\n",
              "      <th>train_precision</th>\n",
              "      <th>test_precision</th>\n",
              "    </tr>\n",
              "  </thead>\n",
              "  <tbody>\n",
              "    <tr>\n",
              "      <th>1</th>\n",
              "      <td>RandomForestClassifier</td>\n",
              "      <td>0.999442</td>\n",
              "      <td>0.981308</td>\n",
              "    </tr>\n",
              "    <tr>\n",
              "      <th>6</th>\n",
              "      <td>XGB</td>\n",
              "      <td>0.982891</td>\n",
              "      <td>0.940048</td>\n",
              "    </tr>\n",
              "    <tr>\n",
              "      <th>3</th>\n",
              "      <td>GradientBoostingClassifier</td>\n",
              "      <td>0.952412</td>\n",
              "      <td>0.952941</td>\n",
              "    </tr>\n",
              "    <tr>\n",
              "      <th>2</th>\n",
              "      <td>AdaBoostClassifier</td>\n",
              "      <td>0.918165</td>\n",
              "      <td>0.901599</td>\n",
              "    </tr>\n",
              "    <tr>\n",
              "      <th>5</th>\n",
              "      <td>KNN</td>\n",
              "      <td>0.868043</td>\n",
              "      <td>0.813713</td>\n",
              "    </tr>\n",
              "    <tr>\n",
              "      <th>0</th>\n",
              "      <td>LogisticRegression</td>\n",
              "      <td>0.844286</td>\n",
              "      <td>0.826516</td>\n",
              "    </tr>\n",
              "    <tr>\n",
              "      <th>4</th>\n",
              "      <td>SVC</td>\n",
              "      <td>0.744275</td>\n",
              "      <td>0.688889</td>\n",
              "    </tr>\n",
              "  </tbody>\n",
              "</table>\n",
              "</div>"
            ],
            "text/plain": [
              "                        model  train_precision  test_precision\n",
              "1      RandomForestClassifier         0.999442        0.981308\n",
              "6                         XGB         0.982891        0.940048\n",
              "3  GradientBoostingClassifier         0.952412        0.952941\n",
              "2          AdaBoostClassifier         0.918165        0.901599\n",
              "5                         KNN         0.868043        0.813713\n",
              "0          LogisticRegression         0.844286        0.826516\n",
              "4                         SVC         0.744275        0.688889"
            ]
          },
          "execution_count": 35,
          "metadata": {},
          "output_type": "execute_result"
        }
      ],
      "source": [
        "results_df.sort_values(['train_precision','test_precision'],ascending=False)"
      ]
    },
    {
      "cell_type": "markdown",
      "metadata": {},
      "source": [
        "it's obvious from the results_df that the best model is xgboost, so we are going to save the xgboost model\n",
        "to make predictions in the futur"
      ]
    }
  ],
  "metadata": {
    "colab": {
      "provenance": []
    },
    "kernelspec": {
      "display_name": "Python 3.7.10 ('base')",
      "language": "python",
      "name": "python3"
    },
    "language_info": {
      "codemirror_mode": {
        "name": "ipython",
        "version": 3
      },
      "file_extension": ".py",
      "mimetype": "text/x-python",
      "name": "python",
      "nbconvert_exporter": "python",
      "pygments_lexer": "ipython3",
      "version": "3.7.10"
    },
    "vscode": {
      "interpreter": {
        "hash": "a077222d77dfe082b8f1dd562ad70e458ac2ab76993a0b248ab0476e32e9e8dd"
      }
    }
  },
  "nbformat": 4,
  "nbformat_minor": 0
}
